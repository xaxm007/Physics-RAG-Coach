{
 "cells": [
  {
   "cell_type": "code",
   "execution_count": 2,
   "id": "1425916f",
   "metadata": {},
   "outputs": [
    {
     "name": "stderr",
     "output_type": "stream",
     "text": [
      "/Users/xaxm/Documents/ProjectX/.venv/lib/python3.12/site-packages/tqdm/auto.py:21: TqdmWarning: IProgress not found. Please update jupyter and ipywidgets. See https://ipywidgets.readthedocs.io/en/stable/user_install.html\n",
      "  from .autonotebook import tqdm as notebook_tqdm\n"
     ]
    }
   ],
   "source": [
    "import os\n",
    "from langchain.prompts import ChatPromptTemplate\n",
    "from models.utils import chat_llm\n",
    "from pinecone import Pinecone\n",
    "from models.utils import embeddings\n",
    "from langchain_pinecone import PineconeVectorStore\n",
    "from operator import itemgetter\n",
    "from langchain.retrievers.multi_query import MultiQueryRetriever\n",
    "from langchain_core.output_parsers import StrOutputParser"
   ]
  },
  {
   "cell_type": "code",
   "execution_count": 3,
   "id": "9311e3c4",
   "metadata": {},
   "outputs": [],
   "source": [
    "api_key = os.getenv(\"PINECONE_API_KEY\")\n",
    "index_name = os.getenv(\"PINECONE_INDEX\")\n",
    "pc = Pinecone(api_key=api_key)\n",
    "index = pc.Index(index_name)\n",
    "embedding_fn = embeddings()\n",
    "vector_store = PineconeVectorStore(index=index, embedding=embedding_fn, namespace='pdf/physics.pdf')"
   ]
  },
  {
   "cell_type": "code",
   "execution_count": 4,
   "id": "76bb2a2d",
   "metadata": {},
   "outputs": [],
   "source": [
    "llm = chat_llm()"
   ]
  },
  {
   "cell_type": "code",
   "execution_count": 52,
   "id": "4380da55",
   "metadata": {},
   "outputs": [],
   "source": [
    "retriever=vector_store.as_retriever(\n",
    "            search_type=\"mmr\",\n",
    "            search_kwargs={'k': 3, 'lambda_mult': 0.25}\n",
    "        )\n",
    "retriever_from_llm = MultiQueryRetriever.from_llm(\n",
    "    retriever=retriever, llm=llm\n",
    ")"
   ]
  },
  {
   "cell_type": "code",
   "execution_count": 53,
   "id": "7e041cfc",
   "metadata": {},
   "outputs": [
    {
     "name": "stderr",
     "output_type": "stream",
     "text": [
      "INFO:langchain.retrievers.multi_query:Generated queries: ['1. Definition of cubical thermal expansion', '2. What causes volume expansion in materials?', '3. How does temperature affect the volume of a solid?']\n"
     ]
    },
    {
     "data": {
      "text/plain": [
       "[Document(metadata={'page': 4.0, 'question': '7. 2071 Set D Q.No. 2 a', 'reference': '', 'source': 'pdf/physics.pdf'}, page_content='7. 2071 Set D Q.No. 2 a Define the coefficient of cubical expansion of a solid and hence, write an expression for the variation of its density with temperature.\\n$2 a$ Coefficient of cubical expansion of solid is defined as the change in volume per unit original volume per unit rise in temperature.'),\n",
       " Document(metadata={'page': 37.0, 'question': '16. 2076 GIE Set A Q.No. 6b', 'reference': '', 'source': 'pdf/physics.pdf'}, page_content='16. 2076 GIE Set A Q.No. 6b Define thermal conductivity of substance. Deduce an expression for the thermal conductivity of a good conductor in steady state.\\n17. Thermal Conductivity: The thermal conductivity of material of a body is defined as the amount of heat that flows in one second across the opposite faces of a unit cube, whose opposite faces are kept at a temperature difference of 1 K . The coefficient of thermal conductivity is represented by k . Its SI unit'),\n",
       " Document(metadata={'page': 4.0, 'question': '6. 2071 Set C Q.No. 2 b', 'reference': '', 'source': 'pdf/physics.pdf'}, page_content='6. 2071 Set C Q.No. 2 b Explain the significance of anomalous expansion of water with an example observed in nature.\\n$2 a$ Most of the liquids expand on being heated but water behaves in a peculiar manner. Water in the range of $0^{\\\\circ} \\\\mathrm{C}$ to $4^{\\\\circ} \\\\mathrm{C}$ contracts with increasing temperature. Its coefficient of volume expansion is negative in this range. Above this temperature, water expands. Hence, water has maximum density at $0^{\\\\circ} \\\\mathrm{C}$. Such behaviour of water is called anomalous expansion. The anomalous expansion of water has important effect on plant and animal life in lakes when the surface temperature is below $4^{\\\\circ} \\\\mathrm{C}$. The water near the surface is less dense than water below it and so, it remains there colder than the water at the bottom. As the surface freezes, the ice floats on the surface while water at $4^{\\\\circ} \\\\mathrm{C}$ remains at bottom where aquatic life remains alive. Hence, aquatic plants and animals can serve in very cold places due to property of anomalous expansion of water.'),\n",
       " Document(metadata={'page': 12.0, 'question': '40. 2059 Q.No. 5 a', 'reference': '2075 GIE Q.No. 6a', 'source': 'pdf/physics.pdf'}, page_content='40. 2059 Q.No. 5 a Why do substances expand on heating? Show that $\\\\alpha=\\\\frac{\\\\gamma}{3}$ where $\\\\alpha$ and $\\\\gamma$ are the coefficient of linear, and cubical expansion of a substance.\\n[1+4] When a substance is heated, its molecules get thermal energy. These molecules vibrate and push far each other. As a result, the substance expanded on heating.\\n$2^{\\\\text {nd }}$ part: Please refer to 2075 GIE Q.No. 6a'),\n",
       " Document(metadata={'page': 49.0, 'question': '5. 2072 Set D Q.No. 2c', 'reference': '', 'source': 'pdf/physics.pdf'}, page_content='5. 2072 Set D Q.No. 2c On reducing the volume of a gas at constant temperature, the pressure of a gas increase. Why?\\n$2 x$ On reducing the volume of gas at constant temperature, the number of molecules per unit volume increase. Therefore, more number of molecules collide with the walls per second and hence, large momentum is transferred to the walls per second. The K.E. also increases, as a result pressure increases.'),\n",
       " Document(metadata={'page': 4.0, 'question': '1. 2076 GIE Set B Q.No. 2a', 'reference': '', 'source': 'pdf/physics.pdf'}, page_content='1. 2076 GIE Set B Q.No. 2a Why does a thick glass cup crack when boiling water is poured on it in the winter? Explain.\\n$2 a$ Glass is bad conductor of heat. As hot water is poured in it, the inner part of glass expands more quickly than outer part. Therefore, there is unequal expansion between inner and outer layers, which causes crack.'),\n",
       " Document(metadata={'page': 5.0, 'question': '15. 2064 Q.No. 4 a', 'reference': '', 'source': 'pdf/physics.pdf'}, page_content='15. 2064 Q.No. 4 a 2050 Q.No. 7 Two bodies made of the same material have the same external dimension and appearance, but one is solid and the other is hollow. When they are heated, is the overall volume expansion the same or different?\\n$>$ For the same volume, the expansion in two bodies of the same material depends only on the temperature. If two identical bodies, one solid and other hollow, are given the same amount of heat, the rise in temperature in the hollow body is greater than that of solid body because of large mass of'),\n",
       " Document(metadata={'page': 20.0, 'question': '7. 2069 Supp Q.No. 2c', 'reference': '', 'source': 'pdf/physics.pdf'}, page_content='7. 2069 Supp Q.No. 2c Why does the temperature of ice fall when some salt is added to it?\\n$2 x$ When salt is added to the ice, the ice provides latent heat to the salt to melt. Since, the ice loses heat its temperature falls.')]"
      ]
     },
     "execution_count": 53,
     "metadata": {},
     "output_type": "execute_result"
    }
   ],
   "source": [
    "retriever_from_llm.invoke({\"question\": \"what is cubical expansivity?\"})"
   ]
  },
  {
   "cell_type": "code",
   "execution_count": 54,
   "id": "dab7bd1a",
   "metadata": {},
   "outputs": [],
   "source": [
    "# Set logging for the queries\n",
    "import logging\n",
    "\n",
    "logging.basicConfig()\n",
    "logging.getLogger(\"langchain.retrievers.multi_query\").setLevel(logging.INFO)"
   ]
  },
  {
   "cell_type": "code",
   "execution_count": 55,
   "id": "78388c58",
   "metadata": {},
   "outputs": [
    {
     "name": "stderr",
     "output_type": "stream",
     "text": [
      "INFO:langchain.retrievers.multi_query:Generated queries: ['1. Definition of cubical thermal expansion', '2. What causes volume expansion in materials?', '3. How does temperature affect the volume of a solid?']\n"
     ]
    },
    {
     "data": {
      "text/plain": [
       "[Document(metadata={'page': 4.0, 'question': '7. 2071 Set D Q.No. 2 a', 'reference': '', 'source': 'pdf/physics.pdf'}, page_content='7. 2071 Set D Q.No. 2 a Define the coefficient of cubical expansion of a solid and hence, write an expression for the variation of its density with temperature.\\n$2 a$ Coefficient of cubical expansion of solid is defined as the change in volume per unit original volume per unit rise in temperature.'),\n",
       " Document(metadata={'page': 37.0, 'question': '16. 2076 GIE Set A Q.No. 6b', 'reference': '', 'source': 'pdf/physics.pdf'}, page_content='16. 2076 GIE Set A Q.No. 6b Define thermal conductivity of substance. Deduce an expression for the thermal conductivity of a good conductor in steady state.\\n17. Thermal Conductivity: The thermal conductivity of material of a body is defined as the amount of heat that flows in one second across the opposite faces of a unit cube, whose opposite faces are kept at a temperature difference of 1 K . The coefficient of thermal conductivity is represented by k . Its SI unit'),\n",
       " Document(metadata={'page': 4.0, 'question': '6. 2071 Set C Q.No. 2 b', 'reference': '', 'source': 'pdf/physics.pdf'}, page_content='6. 2071 Set C Q.No. 2 b Explain the significance of anomalous expansion of water with an example observed in nature.\\n$2 a$ Most of the liquids expand on being heated but water behaves in a peculiar manner. Water in the range of $0^{\\\\circ} \\\\mathrm{C}$ to $4^{\\\\circ} \\\\mathrm{C}$ contracts with increasing temperature. Its coefficient of volume expansion is negative in this range. Above this temperature, water expands. Hence, water has maximum density at $0^{\\\\circ} \\\\mathrm{C}$. Such behaviour of water is called anomalous expansion. The anomalous expansion of water has important effect on plant and animal life in lakes when the surface temperature is below $4^{\\\\circ} \\\\mathrm{C}$. The water near the surface is less dense than water below it and so, it remains there colder than the water at the bottom. As the surface freezes, the ice floats on the surface while water at $4^{\\\\circ} \\\\mathrm{C}$ remains at bottom where aquatic life remains alive. Hence, aquatic plants and animals can serve in very cold places due to property of anomalous expansion of water.'),\n",
       " Document(metadata={'page': 12.0, 'question': '40. 2059 Q.No. 5 a', 'reference': '2075 GIE Q.No. 6a', 'source': 'pdf/physics.pdf'}, page_content='40. 2059 Q.No. 5 a Why do substances expand on heating? Show that $\\\\alpha=\\\\frac{\\\\gamma}{3}$ where $\\\\alpha$ and $\\\\gamma$ are the coefficient of linear, and cubical expansion of a substance.\\n[1+4] When a substance is heated, its molecules get thermal energy. These molecules vibrate and push far each other. As a result, the substance expanded on heating.\\n$2^{\\\\text {nd }}$ part: Please refer to 2075 GIE Q.No. 6a'),\n",
       " Document(metadata={'page': 49.0, 'question': '5. 2072 Set D Q.No. 2c', 'reference': '', 'source': 'pdf/physics.pdf'}, page_content='5. 2072 Set D Q.No. 2c On reducing the volume of a gas at constant temperature, the pressure of a gas increase. Why?\\n$2 x$ On reducing the volume of gas at constant temperature, the number of molecules per unit volume increase. Therefore, more number of molecules collide with the walls per second and hence, large momentum is transferred to the walls per second. The K.E. also increases, as a result pressure increases.'),\n",
       " Document(metadata={'page': 4.0, 'question': '1. 2076 GIE Set B Q.No. 2a', 'reference': '', 'source': 'pdf/physics.pdf'}, page_content='1. 2076 GIE Set B Q.No. 2a Why does a thick glass cup crack when boiling water is poured on it in the winter? Explain.\\n$2 a$ Glass is bad conductor of heat. As hot water is poured in it, the inner part of glass expands more quickly than outer part. Therefore, there is unequal expansion between inner and outer layers, which causes crack.'),\n",
       " Document(metadata={'page': 5.0, 'question': '15. 2064 Q.No. 4 a', 'reference': '', 'source': 'pdf/physics.pdf'}, page_content='15. 2064 Q.No. 4 a 2050 Q.No. 7 Two bodies made of the same material have the same external dimension and appearance, but one is solid and the other is hollow. When they are heated, is the overall volume expansion the same or different?\\n$>$ For the same volume, the expansion in two bodies of the same material depends only on the temperature. If two identical bodies, one solid and other hollow, are given the same amount of heat, the rise in temperature in the hollow body is greater than that of solid body because of large mass of'),\n",
       " Document(metadata={'page': 20.0, 'question': '7. 2069 Supp Q.No. 2c', 'reference': '', 'source': 'pdf/physics.pdf'}, page_content='7. 2069 Supp Q.No. 2c Why does the temperature of ice fall when some salt is added to it?\\n$2 x$ When salt is added to the ice, the ice provides latent heat to the salt to melt. Since, the ice loses heat its temperature falls.')]"
      ]
     },
     "execution_count": 55,
     "metadata": {},
     "output_type": "execute_result"
    }
   ],
   "source": [
    "mutli_query = retriever_from_llm.invoke({\"question\": \"what is cubical expansivity?\"})\n",
    "mutli_query"
   ]
  },
  {
   "cell_type": "code",
   "execution_count": 58,
   "id": "503cd50e",
   "metadata": {},
   "outputs": [],
   "source": [
    "from langchain_core.documents import Document\n",
    "from langchain.load import dumps, loads\n",
    "\n",
    "def rrf(documents=list[Document], k:int = 60):\n",
    "    \"\"\"Reciprocal_rank_fusion that takes multiple lists of ranked documents and an optional parameter k used in the RRF formula\"\"\"\n",
    "    scores = {}\n",
    "    for rank, docs in enumerate(documents):\n",
    "        doc_str = dumps(docs)\n",
    "        if doc_str not in scores:\n",
    "            scores[doc_str] = 0\n",
    "        previous_score = scores[doc_str]\n",
    "        scores[doc_str] += 1/(rank + k)\n",
    "\n",
    "        reranked_results = []\n",
    "        for doc, score in sorted(scores.items(), key=lambda x: x[1], reverse=True):\n",
    "            reranked_results.append((loads(doc), score))\n",
    "    return reranked_results"
   ]
  },
  {
   "cell_type": "code",
   "execution_count": 59,
   "id": "2b41fca2",
   "metadata": {},
   "outputs": [
    {
     "name": "stderr",
     "output_type": "stream",
     "text": [
      "INFO:langchain.retrievers.multi_query:Generated queries: ['1. Definition of cubical thermal expansion', '2. What causes volume expansion in materials?', '3. How does temperature affect the volume of a solid?']\n"
     ]
    }
   ],
   "source": [
    "retrieval_chain_rag_fusion = retriever_from_llm | rrf\n",
    "docs = retrieval_chain_rag_fusion.invoke({\"question\": \"what is cubical expansivity?\"})"
   ]
  },
  {
   "cell_type": "code",
   "execution_count": 60,
   "id": "0f945b01",
   "metadata": {},
   "outputs": [
    {
     "data": {
      "text/plain": [
       "[(Document(metadata={'page': 4.0, 'question': '7. 2071 Set D Q.No. 2 a', 'reference': '', 'source': 'pdf/physics.pdf'}, page_content='7. 2071 Set D Q.No. 2 a Define the coefficient of cubical expansion of a solid and hence, write an expression for the variation of its density with temperature.\\n$2 a$ Coefficient of cubical expansion of solid is defined as the change in volume per unit original volume per unit rise in temperature.'),\n",
       "  0.016666666666666666),\n",
       " (Document(metadata={'page': 37.0, 'question': '16. 2076 GIE Set A Q.No. 6b', 'reference': '', 'source': 'pdf/physics.pdf'}, page_content='16. 2076 GIE Set A Q.No. 6b Define thermal conductivity of substance. Deduce an expression for the thermal conductivity of a good conductor in steady state.\\n17. Thermal Conductivity: The thermal conductivity of material of a body is defined as the amount of heat that flows in one second across the opposite faces of a unit cube, whose opposite faces are kept at a temperature difference of 1 K . The coefficient of thermal conductivity is represented by k . Its SI unit'),\n",
       "  0.01639344262295082),\n",
       " (Document(metadata={'page': 4.0, 'question': '6. 2071 Set C Q.No. 2 b', 'reference': '', 'source': 'pdf/physics.pdf'}, page_content='6. 2071 Set C Q.No. 2 b Explain the significance of anomalous expansion of water with an example observed in nature.\\n$2 a$ Most of the liquids expand on being heated but water behaves in a peculiar manner. Water in the range of $0^{\\\\circ} \\\\mathrm{C}$ to $4^{\\\\circ} \\\\mathrm{C}$ contracts with increasing temperature. Its coefficient of volume expansion is negative in this range. Above this temperature, water expands. Hence, water has maximum density at $0^{\\\\circ} \\\\mathrm{C}$. Such behaviour of water is called anomalous expansion. The anomalous expansion of water has important effect on plant and animal life in lakes when the surface temperature is below $4^{\\\\circ} \\\\mathrm{C}$. The water near the surface is less dense than water below it and so, it remains there colder than the water at the bottom. As the surface freezes, the ice floats on the surface while water at $4^{\\\\circ} \\\\mathrm{C}$ remains at bottom where aquatic life remains alive. Hence, aquatic plants and animals can serve in very cold places due to property of anomalous expansion of water.'),\n",
       "  0.016129032258064516),\n",
       " (Document(metadata={'page': 12.0, 'question': '40. 2059 Q.No. 5 a', 'reference': '2075 GIE Q.No. 6a', 'source': 'pdf/physics.pdf'}, page_content='40. 2059 Q.No. 5 a Why do substances expand on heating? Show that $\\\\alpha=\\\\frac{\\\\gamma}{3}$ where $\\\\alpha$ and $\\\\gamma$ are the coefficient of linear, and cubical expansion of a substance.\\n[1+4] When a substance is heated, its molecules get thermal energy. These molecules vibrate and push far each other. As a result, the substance expanded on heating.\\n$2^{\\\\text {nd }}$ part: Please refer to 2075 GIE Q.No. 6a'),\n",
       "  0.015873015873015872),\n",
       " (Document(metadata={'page': 49.0, 'question': '5. 2072 Set D Q.No. 2c', 'reference': '', 'source': 'pdf/physics.pdf'}, page_content='5. 2072 Set D Q.No. 2c On reducing the volume of a gas at constant temperature, the pressure of a gas increase. Why?\\n$2 x$ On reducing the volume of gas at constant temperature, the number of molecules per unit volume increase. Therefore, more number of molecules collide with the walls per second and hence, large momentum is transferred to the walls per second. The K.E. also increases, as a result pressure increases.'),\n",
       "  0.015625),\n",
       " (Document(metadata={'page': 4.0, 'question': '1. 2076 GIE Set B Q.No. 2a', 'reference': '', 'source': 'pdf/physics.pdf'}, page_content='1. 2076 GIE Set B Q.No. 2a Why does a thick glass cup crack when boiling water is poured on it in the winter? Explain.\\n$2 a$ Glass is bad conductor of heat. As hot water is poured in it, the inner part of glass expands more quickly than outer part. Therefore, there is unequal expansion between inner and outer layers, which causes crack.'),\n",
       "  0.015384615384615385),\n",
       " (Document(metadata={'page': 5.0, 'question': '15. 2064 Q.No. 4 a', 'reference': '', 'source': 'pdf/physics.pdf'}, page_content='15. 2064 Q.No. 4 a 2050 Q.No. 7 Two bodies made of the same material have the same external dimension and appearance, but one is solid and the other is hollow. When they are heated, is the overall volume expansion the same or different?\\n$>$ For the same volume, the expansion in two bodies of the same material depends only on the temperature. If two identical bodies, one solid and other hollow, are given the same amount of heat, the rise in temperature in the hollow body is greater than that of solid body because of large mass of'),\n",
       "  0.015151515151515152),\n",
       " (Document(metadata={'page': 20.0, 'question': '7. 2069 Supp Q.No. 2c', 'reference': '', 'source': 'pdf/physics.pdf'}, page_content='7. 2069 Supp Q.No. 2c Why does the temperature of ice fall when some salt is added to it?\\n$2 x$ When salt is added to the ice, the ice provides latent heat to the salt to melt. Since, the ice loses heat its temperature falls.'),\n",
       "  0.014925373134328358)]"
      ]
     },
     "execution_count": 60,
     "metadata": {},
     "output_type": "execute_result"
    }
   ],
   "source": [
    "docs"
   ]
  },
  {
   "cell_type": "code",
   "execution_count": null,
   "id": "276c486a",
   "metadata": {},
   "outputs": [],
   "source": [
    "chain = (\n",
    "    {\n",
    "        \"context\": retriever,\n",
    "        \"question\": itemgetter(\"question\")\n",
    "    }\n",
    "    | prompt\n",
    "    | llm\n",
    "    | StrOutputParser()\n",
    "    # | (lambda x: x[].replace(\"\\\\\\\\\", \"\\\\\"))\n",
    ")\n",
    "answer = chain.invoke({\"question\": user_query})\n"
   ]
  },
  {
   "cell_type": "code",
   "execution_count": 14,
   "id": "94933008",
   "metadata": {},
   "outputs": [],
   "source": [
    "from langchain.prompts import ChatPromptTemplate\n",
    "\n",
    "# RAG-Fusion: Related\n",
    "template = \"\"\"You are a helpful assistant that generates multiple search queries based on a single input query. \\n\n",
    "Generate multiple search queries related to: {question} \\n\n",
    "Output (4 queries):\"\"\"\n",
    "prompt_rag_fusion = ChatPromptTemplate.from_template(template)"
   ]
  },
  {
   "cell_type": "code",
   "execution_count": 15,
   "id": "229faf4d",
   "metadata": {},
   "outputs": [],
   "source": [
    "from langchain_core.output_parsers import StrOutputParser\n",
    "\n",
    "generate_queries = (\n",
    "    prompt_rag_fusion \n",
    "    | llm\n",
    "    | StrOutputParser() \n",
    "    | (lambda x: x.split(\"\\n\"))\n",
    ")"
   ]
  },
  {
   "cell_type": "code",
   "execution_count": 21,
   "id": "0b5e7e68",
   "metadata": {},
   "outputs": [
    {
     "data": {
      "text/plain": [
       "['1.  Cubical expansivity definition',\n",
       " '2.  Properties of cubical expansivity',\n",
       " '3.  Examples of cubical expansivity',\n",
       " '4.  Cubical expansivity vs other expansivity types']"
      ]
     },
     "execution_count": 21,
     "metadata": {},
     "output_type": "execute_result"
    }
   ],
   "source": [
    "generate_queries.invoke({\"question\": \"what is cubical expansivity?\"})"
   ]
  },
  {
   "cell_type": "code",
   "execution_count": 16,
   "id": "66f86864",
   "metadata": {},
   "outputs": [
    {
     "name": "stderr",
     "output_type": "stream",
     "text": [
      "/var/folders/km/tf_d4lt54rn1_pt0995j_l600000gn/T/ipykernel_22537/2183479435.py:26: LangChainBetaWarning: The function `loads` is in beta. It is actively being worked on, so the API may change.\n",
      "  (loads(doc), score)\n"
     ]
    },
    {
     "data": {
      "text/plain": [
       "6"
      ]
     },
     "execution_count": 16,
     "metadata": {},
     "output_type": "execute_result"
    }
   ],
   "source": [
    "from langchain.load import dumps, loads\n",
    "\n",
    "def reciprocal_rank_fusion(results: list[list], k=60):\n",
    "    \"\"\" Reciprocal_rank_fusion that takes multiple lists of ranked documents \n",
    "        and an optional parameter k used in the RRF formula \"\"\"\n",
    "    \n",
    "    # Initialize a dictionary to hold fused scores for each unique document\n",
    "    fused_scores = {}\n",
    "\n",
    "    # Iterate through each list of ranked documents\n",
    "    for docs in results:\n",
    "        # Iterate through each document in the list, with its rank (position in the list)\n",
    "        for rank, doc in enumerate(docs):\n",
    "            # Convert the document to a string format to use as a key (assumes documents can be serialized to JSON)\n",
    "            doc_str = dumps(doc)\n",
    "            # If the document is not yet in the fused_scores dictionary, add it with an initial score of 0\n",
    "            if doc_str not in fused_scores:\n",
    "                fused_scores[doc_str] = 0\n",
    "            # Retrieve the current score of the document, if any\n",
    "            previous_score = fused_scores[doc_str]\n",
    "            # Update the score of the document using the RRF formula: 1 / (rank + k)\n",
    "            fused_scores[doc_str] += 1 / (rank + k)\n",
    "\n",
    "    # Sort the documents based on their fused scores in descending order to get the final reranked results\n",
    "    reranked_results = [\n",
    "        (loads(doc), score)\n",
    "        for doc, score in sorted(fused_scores.items(), key=lambda x: x[1], reverse=True)\n",
    "    ]\n",
    "\n",
    "    # Return the reranked results as a list of tuples, each containing the document and its fused score\n",
    "    return reranked_results\n",
    "\n",
    "retrieval_chain_rag_fusion = generate_queries | retriever.map() | reciprocal_rank_fusion\n",
    "question = \"what is cubical expansivity?\"\n",
    "docs = retrieval_chain_rag_fusion.invoke({\"question\": question})\n",
    "len(docs)"
   ]
  },
  {
   "cell_type": "code",
   "execution_count": 17,
   "id": "d284b7eb",
   "metadata": {},
   "outputs": [
    {
     "data": {
      "text/plain": [
       "[(Document(metadata={'page': 5.0, 'question': '10. 2070 Set D Q.No. 2 a', 'reference': '', 'source': 'pdf/physics.pdf'}, page_content='10. 2070 Set D Q.No. 2 a Does the cubical expansivity of a liquid depend on its original volume? Explain.\\n$>$ No, the cubical expansivity of a liquid does not depend upon original volume of liquid.\\nThe cubical expansitivity of a liquid is given as, $\\\\gamma=\\\\frac{\\\\Delta V}{V\\\\left(\\\\theta_{2}-\\\\theta_{1}\\\\right)}$\\nThe ratio of $\\\\frac{\\\\Delta V}{V}$ is same in each case for a liquid so, the coefficient of cubical expansion is same for all'),\n",
       "  0.06666666666666667),\n",
       " (Document(metadata={'page': 12.0, 'question': '41. 2056 Q.No. 5 a', 'reference': '2075 GIE Q.No. 6a', 'source': 'pdf/physics.pdf'}, page_content='41. 2056 Q.No. 5 a Define linear and cubical expansivities. Derive a relation between them.\\n$[1+1+3]$\\n$\\\\Rightarrow$ Please refer to 2075 GIE Q.No. 6a'),\n",
       "  0.048651507139079855),\n",
       " (Document(metadata={'page': 17.0, 'question': '67. 2068 Old Q.No. 5 A', 'reference': '', 'source': 'pdf/physics.pdf'}, page_content='67. 2068 Old Q.No. 5 A brass rod of length 0.40 m and steel rod of length 0.60 m , both are initially at $0^{\\\\circ} \\\\mathrm{C}$ are heated to $75^{\\\\circ} \\\\mathrm{C}$. If the increase in lengths is the same for both the rods, calculate the linear expansivity of brass. The linear expansivity of steel is $12 \\\\times 10^{-6}{ }^{\\\\circ} \\\\mathrm{C}^{-1}$.\\n$>$ Given,\\nLength of bass rod at $0^{\\\\circ} \\\\mathrm{C}\\\\left(l_{0}^{\\\\mathrm{b}}\\\\right)=0.40 \\\\mathrm{~m}$\\nLength of steel rod at $0^{\\\\circ} \\\\mathrm{C}\\\\left(l_{0}^{*}\\\\right)=0.60 \\\\mathrm{~m}$\\nInitial temperature $\\\\left(\\\\theta_{1}\\\\right)=0^{\\\\circ} \\\\mathrm{C}$\\nFinal temperature $\\\\left(\\\\theta_{2}\\\\right)=75^{\\\\circ} \\\\mathrm{C}$\\nLinear expansivity of steel $\\\\left(\\\\alpha_{s}\\\\right)=12 \\\\times 10^{-6}{ }^{\\\\circ} \\\\mathrm{C}^{-1}$\\nLinear expansivity of brass $\\\\left(\\\\alpha_{b}\\\\right)=$ ?\\nLet, $l_{2}^{\\\\mathrm{b}}$ and $l_{2}^{*}$ be the lengths of brass and steel at $\\\\theta_{2}{ }^{\\\\circ} \\\\mathrm{C}$ then,\\n$l_{2}^{\\\\mathrm{b}}=l_{0}^{\\\\mathrm{b}}\\\\left(1+\\\\alpha_{\\\\mathrm{b}} \\\\Delta \\\\theta\\\\right)$\\nor, $l_{2}^{\\\\mathrm{b}}-l_{0}^{\\\\mathrm{b}}=\\\\alpha_{\\\\mathrm{b}} l_{0}^{\\\\mathrm{b}} \\\\Delta \\\\theta$\\nSimilarly,\\n$l_{2}^{\\\\mathrm{s}}-l_{0}^{\\\\mathrm{s}}=\\\\alpha_{\\\\mathrm{s}} l_{0}^{\\\\mathrm{s}} \\\\Delta \\\\theta$\\nBy question\\n$l_{2}^{\\\\mathrm{b}}-l_{0}^{\\\\mathrm{b}}=l_{2}^{\\\\mathrm{s}}-l_{0}^{\\\\mathrm{s}}$\\nor, $\\\\alpha_{b} l_{0}^{\\\\mathrm{b}} \\\\Delta \\\\theta=\\\\alpha_{\\\\mathrm{s}} l_{0}^{\\\\mathrm{s}} \\\\Delta \\\\theta$\\n\\n$$\\n\\\\begin{aligned}\\n\\\\alpha_{b} & =\\\\frac{\\\\alpha_{s} \\\\cdot l_{0}^{\\\\mathrm{s}}}{l_{0}^{\\\\mathrm{b}}}=\\\\frac{12 \\\\times 10^{-6} \\\\times 0.60}{0.40} \\\\\\\\\\n& =18 \\\\times 10^{-6^{\\\\circ} \\\\mathrm{C}^{-1}}\\n\\\\end{aligned}\\n$$'),\n",
       "  0.03252247488101534),\n",
       " (Document(metadata={'page': 56.0, 'question': '41. 2066 Old Q. No. 5 a', 'reference': '2076 Set B Q.No. 6h', 'source': 'pdf/physics.pdf'}, page_content='41. 2066 Old Q. No. 5 a Outline essential features of the kinetic theory of gases. Obtain an equation of state on the basis of kinetic theory.\\n$\\\\Rightarrow 1^{\\\\text {st }}$ part: Please refer to 2076 Set B Q.No. 6h\\n$2^{\\\\text {nd }}$ part: Please refer to 2071 Set D Q.No. 6h'),\n",
       "  0.01639344262295082),\n",
       " (Document(metadata={'page': 50.0, 'question': '10. 2068 Old Q.No. 4 M', 'reference': '', 'source': 'pdf/physics.pdf'}, page_content='10. 2068 Old Q.No. 4 M What are the characteristics of a gas to be an ideal?\\n$>$ According to kinetic theory of gas, a gas should have the characteristics to be an ideal,\\na. The size of molecules should be negligibly small in comparison to distance between them,\\nb. The molecules of gas should alike in size and mass but differ from the molecules of other gas.\\nc. The force of attraction between molecules should be negligible.\\nd. The gas molecules should be a perfect elastic sphere.\\ne.. The temperature of gas should be high and pressure should be low.'),\n",
       "  0.01639344262295082),\n",
       " (Document(metadata={'page': 52.0, 'question': '22. 2076 GIE Set B Q.No. 6b', 'reference': '', 'source': 'pdf/physics.pdf'}, page_content=\"22. 2076 GIE Set B Q.No. 6b What is meant by an ideal gas? Obtain the relation PV = nRT, where symbols have their usual meanings.\\n23. Ideal gas: According to kinetic theory of gas, a gas having following characteristics is an ideal gas,\\na. The size of molecules should be negligibly small in comparison to distance between them,\\nb. The molecules of gas should alike in size and mass but differ from the molecules of other gas.\\nc. The force of attraction between molecules should be negligible.\\nd. The gas molecules should be a perfect elastic sphere.\\ne. The temperature of gas should be high and pressure should be low.\\n\\nIdeal gas equation (Equation of state)\\nFor a given mass of gas, the three thermodynamic variables pressure ( P ), volume (V) and temperature (T) change simultaneously. The equation which relates these three variables pressure (P), volume (V) and temperature (T) is\\n![img-18.jpeg](img-18.jpeg)\\ncalled equation of state.\\n![img-19.jpeg](img-19.jpeg)\\n\\nFig (a)\\n![img-20.jpeg](img-20.jpeg)\\n\\nFig (b)\\n![img-21.jpeg](img-21.jpeg)\\n\\nFig (c)\\n\\nAs shown in above figure, the volume of gas is $\\\\mathrm{V}_{1}$ at pressure $\\\\mathrm{P}_{1}$ and absolute temperature $\\\\mathrm{T}_{1}$. If temperature of gas isincreased from $T_{1}$ to $T_{2}$ at constant pressure ( $P_{1}$ ), the volume of gas becomes $V^{\\\\prime}$ as shown in figure (b). Applying Charle's law, we get\\n$\\\\frac{V_{1}}{T_{1}}=\\\\frac{V^{\\\\prime}}{T_{2}} \\\\quad \\\\Rightarrow V^{\\\\prime}=\\\\frac{T_{2}}{T_{1}} V_{1}$\\nNow, the gas is compressed at constant temperature $\\\\mathrm{T}_{2}$ so that the new volume of gas is $\\\\mathrm{V}_{2}$ and pressure $\\\\mathrm{P}_{2}$. Applying Boyle's law, we get\\n\\n$$\\nP_{1} V^{\\\\prime}=P_{2} V_{2}\\n$$\\n\\nUsing equation (i), we get\\n$\\\\mathrm{P}_{1} \\\\mathrm{~V}_{1} \\\\frac{\\\\mathrm{~T}_{2}}{\\\\mathrm{~T}_{1}}=\\\\mathrm{P}_{2} \\\\mathrm{~V}_{2} \\\\Rightarrow \\\\frac{\\\\mathrm{P}_{1} \\\\mathrm{~V}_{1}}{\\\\mathrm{~T}_{1}}=\\\\frac{\\\\mathrm{P}_{2} \\\\mathrm{~V}_{2}}{\\\\mathrm{~T}_{2}}$\\nIn general, we can write $\\\\frac{\\\\mathrm{PV}}{\\\\mathrm{T}}=$ constant\\nThe constant appears in equation (iii) does not depends on nature of gas taken and amount of gas taken. If one molecule of gas occupies a volume- $V$ at pressure $P$ and at temperature (absolute) $T$, then PV $=$ RT, Where R is universal gas constant.\\nFor n-mole of gas, PV = nRT\\nwhich is the equation of state of an ideal gas.\"),\n",
       "  0.016129032258064516)]"
      ]
     },
     "execution_count": 17,
     "metadata": {},
     "output_type": "execute_result"
    }
   ],
   "source": [
    "docs"
   ]
  },
  {
   "cell_type": "code",
   "execution_count": 18,
   "id": "494b3b9f",
   "metadata": {},
   "outputs": [
    {
     "data": {
      "text/plain": [
       "'Based on the provided documents, cubical expansivity is defined in the context of a liquid as:\\n\\n$\\\\\\\\gamma=\\\\\\\\frac{\\\\\\\\Delta V}{V\\\\\\\\left(\\\\\\\\theta_{2}-\\\\\\\\theta_{1}\\\\\\\\right)}$\\n\\nWhere:\\n\\n*   $\\\\\\\\gamma$ represents the cubical expansivity.\\n*   $\\\\\\\\Delta V$ is the change in volume.\\n*   $V$ is the original volume.\\n*   $\\\\\\\\theta_{2}-\\\\\\\\theta_{1}$ is the change in temperature.\\n\\nAdditionally, one document mentions the need to \"Define linear and cubical expansivities. Derive a relation between them\" and refers to another document for the answer.'"
      ]
     },
     "execution_count": 18,
     "metadata": {},
     "output_type": "execute_result"
    }
   ],
   "source": [
    "from langchain_core.runnables import RunnablePassthrough\n",
    "\n",
    "# RAG\n",
    "template = \"\"\"Answer the following question based on this context:\n",
    "\n",
    "{context}\n",
    "\n",
    "Question: {question}\n",
    "\"\"\"\n",
    "\n",
    "prompt = ChatPromptTemplate.from_template(template)\n",
    "\n",
    "final_rag_chain = (\n",
    "    {\"context\": retrieval_chain_rag_fusion, \n",
    "     \"question\": itemgetter(\"question\")} \n",
    "    | prompt\n",
    "    | llm\n",
    "    | StrOutputParser()\n",
    ")\n",
    "\n",
    "final_rag_chain.invoke({\"question\":question})"
   ]
  },
  {
   "cell_type": "code",
   "execution_count": 1,
   "id": "1f83a345",
   "metadata": {},
   "outputs": [],
   "source": [
    "from indexing.load_file import ocr_image\n",
    "\n",
    "text = ocr_image(\"/Users/xaxm/Desktop/IMG_20250623_172644.jpg\")"
   ]
  },
  {
   "cell_type": "code",
   "execution_count": 2,
   "id": "9d41958b",
   "metadata": {},
   "outputs": [
    {
     "data": {
      "text/plain": [
       "'What is Cubical expanciity?'"
      ]
     },
     "execution_count": 2,
     "metadata": {},
     "output_type": "execute_result"
    }
   ],
   "source": [
    "text"
   ]
  },
  {
   "cell_type": "code",
   "execution_count": 4,
   "id": "f4ccece9",
   "metadata": {},
   "outputs": [
    {
     "data": {
      "text/plain": [
       "[]"
      ]
     },
     "execution_count": 4,
     "metadata": {},
     "output_type": "execute_result"
    }
   ],
   "source": [
    "import json\n",
    "langchains=[]\n",
    "json.loads(json.dumps((langchains)))"
   ]
  },
  {
   "cell_type": "code",
   "execution_count": 2,
   "id": "aca61d9e",
   "metadata": {},
   "outputs": [],
   "source": [
    "from langchain import hub\n",
    "from operator import itemgetter\n",
    "from models.utils import chat_llm\n",
    "from langchain.chains import LLMChain\n",
    "from pinecone_db.pinecone_client import load_pinecone\n",
    "from langchain_core.runnables import RunnablePassthrough\n",
    "from langchain_core.output_parsers import StrOutputParser\n",
    "from langchain.chains import create_history_aware_retriever\n",
    "from langchain.chains.retrieval import create_retrieval_chain\n",
    "from langchain.retrievers.multi_query import MultiQueryRetriever\n",
    "from langchain.prompts import ChatPromptTemplate, MessagesPlaceholder\n",
    "from langchain_core.messages import AIMessage, HumanMessage, SystemMessage\n",
    "from langchain.chains.combine_documents import create_stuff_documents_chain\n",
    "\n",
    "def rag_chain(user_query: str, chat_history: list):\n",
    "    \"\"\"RAG chain\"\"\"\n",
    "\n",
    "    # Initialize Pinecone database\n",
    "    vector_store = load_pinecone()\n",
    "\n",
    "    # # Prompt\n",
    "    # template = \"\"\"Answer the question based only on the following context\"\"\"\n",
    "    # prompt = ChatPromptTemplate.from_template(template)\n",
    "\n",
    "    rephrase_prompt = ChatPromptTemplate.from_messages(\n",
    "        [\n",
    "            (\"system\", \"\"\"Given a chat history and the latest user question which might reference context in the chat history, \n",
    "            formulate a standalone question which can be understood without the chat history. Do NOT answer the question, \n",
    "            just reformulate it if needed and otherwise return it as is.\"\"\"),\n",
    "            MessagesPlaceholder(variable_name=\"history\", optional=True),\n",
    "            (\"human\", \"{input}\"),\n",
    "        ]\n",
    "    )\n",
    "\n",
    "    prompt = ChatPromptTemplate.from_messages(\n",
    "        [\n",
    "            (\"system\", \"Answer the question based only on the following context and chat history\"),\n",
    "            (\"system\", \"Context: {context}\"),\n",
    "            MessagesPlaceholder(variable_name=\"history\", optional=True),\n",
    "            (\"human\", \"{input}\"),\n",
    "        ]\n",
    "    )\n",
    "\n",
    "    # Initialize ChatModel\n",
    "    llm = chat_llm()\n",
    "    retriever = vector_store.as_retriever()\n",
    "    \n",
    "    chat_retriever_chain = create_history_aware_retriever(llm, retriever, rephrase_prompt)\n",
    "    doc_chain = create_stuff_documents_chain(llm, prompt)\n",
    "    chain = create_retrieval_chain(chat_retriever_chain, doc_chain)\n",
    "\n",
    "    # chain = (\n",
    "    #     {\n",
    "    #         \"context\": retriever,\n",
    "    #         \"question\": RunnablePassthrough()\n",
    "    #     }\n",
    "    #     | prompt\n",
    "    #     | llm\n",
    "    #     | StrOutputParser()\n",
    "    # )\n",
    "\n",
    "    answer = chain.invoke({\n",
    "        \"input\": user_query, \n",
    "        \"history\": chat_history\n",
    "    })\n",
    "    return answer"
   ]
  },
  {
   "cell_type": "code",
   "execution_count": 3,
   "id": "467e074f",
   "metadata": {},
   "outputs": [],
   "source": [
    "op = rag_chain(\"what is cubical expansivity?\", [])"
   ]
  },
  {
   "cell_type": "code",
   "execution_count": 4,
   "id": "d92f98d5",
   "metadata": {},
   "outputs": [
    {
     "data": {
      "text/plain": [
       "{'input': 'what is cubical expansivity?',\n",
       " 'history': [],\n",
       " 'context': [Document(id='32. 2071 Set C Q.No. 6 c', metadata={'page': 9.0, 'question': '32. 2071 Set C Q.No. 6 c', 'reference': '', 'source': 'pdf/physics.pdf'}, page_content='32. 2071 Set C Q.No. 6 c Does cubical expansivity depend upon the initial volume of a solid? Write the unit of this expansivity. Also derive its relation with superficial expansivity.\\n$>$ No, the cubical expansivity of a solid does not depend upon initial volume of solid.\\nThe cubical expansitivity of a solid is given as\\n$\\\\gamma=\\\\frac{\\\\Delta \\\\mathrm{V}}{\\\\mathrm{V}\\\\left(\\\\theta_{2}-\\\\theta_{1}\\\\right)}$\\nThe ratio of $\\\\frac{\\\\Delta \\\\mathrm{V}}{\\\\mathrm{V}}$ is same in each case for a solid so, the coefficient of cubical expansion is same for all volume of a solid and does not depend on the volume. The unit of this expansivity is per kelvin ( $\\\\mathrm{K}^{-1}$ ). Relation between $\\\\beta$ and $\\\\gamma$ : Let us consider a cube whose sides having length $L_{0}$ and area of each face $A_{0}$ at temperature $0^{\\\\circ} \\\\mathrm{C}$ and volume is $V_{0}$. If the cube is heated, then the side of cube becomes $L_{0}$, area $A_{0}$ and volume $V_{0}$. If $\\\\gamma$ be the coefficient of cubical expansion then,\\n$V_{0}=V_{0}(1+\\\\gamma \\\\theta)$\\nAgain,\\n$V_{0}=A_{0} \\\\times L_{0}$\\nor, $V_{0}=A_{0}(1+\\\\beta \\\\Delta \\\\theta) \\\\times L_{0}(1+\\\\alpha \\\\Delta \\\\theta)$\\nor, $V_{0}=A_{0} L_{0}\\\\left(1+\\\\alpha \\\\Delta \\\\theta+\\\\beta \\\\Delta \\\\theta+\\\\alpha \\\\beta \\\\Delta \\\\theta^{2}\\\\right)$\\nor, $V_{0}=V_{0}[1+(\\\\alpha+\\\\beta) \\\\Delta \\\\theta]$\\n[ $\\\\alpha$ and $\\\\beta$ are small quantities and hence, there product is very small which is neglected]\\nComparing equation (i) and (ii)\\n$\\\\gamma=\\\\alpha+\\\\beta \\\\quad \\\\Gamma^{\\\\prime} \\\\beta=2 \\\\alpha]$\\nor, $\\\\gamma=\\\\frac{\\\\beta}{2}+\\\\beta=\\\\frac{3 \\\\beta}{2}$\\nor, $\\\\frac{\\\\gamma}{3}=\\\\frac{\\\\beta}{2}$\\nThis is the required relation between $\\\\gamma$ and $\\\\beta$.'),\n",
       "  Document(id='10. 2070 Set D Q.No. 2 a', metadata={'page': 5.0, 'question': '10. 2070 Set D Q.No. 2 a', 'reference': '', 'source': 'pdf/physics.pdf'}, page_content='10. 2070 Set D Q.No. 2 a Does the cubical expansivity of a liquid depend on its original volume? Explain.\\n$>$ No, the cubical expansivity of a liquid does not depend upon original volume of liquid.\\nThe cubical expansitivity of a liquid is given as, $\\\\gamma=\\\\frac{\\\\Delta V}{V\\\\left(\\\\theta_{2}-\\\\theta_{1}\\\\right)}$\\nThe ratio of $\\\\frac{\\\\Delta V}{V}$ is same in each case for a liquid so, the coefficient of cubical expansion is same for all'),\n",
       "  Document(id='26. 2075 GIE Q.No. 6a', metadata={'page': 7.0, 'question': '26. 2075 GIE Q.No. 6a', 'reference': '', 'source': 'pdf/physics.pdf'}, page_content='26. 2075 GIE Q.No. 6a Define linear and cubical expansivity of solids. Establish a relationship between the coefficients of linear and cubical expansions.\\nLinear expansivity ( $\\\\alpha$ ): The increase in length per unit original length per unit rise in temperature is called linear expansivity or coefficient of linear expansion. It is denoted by $\\\\alpha$ and is given by\\n$\\\\alpha=\\\\frac{\\\\text { change in length }}{\\\\text { original length } \\\\times \\\\text { rise in temperature }}$\\n$\\\\alpha=\\\\frac{l_{2}-l_{1}}{l_{1}\\\\left(\\\\theta_{2}-\\\\theta_{1}\\\\right)} \\\\Rightarrow \\\\alpha=\\\\frac{\\\\Delta l}{l_{1} \\\\Delta \\\\theta}$\\nwhere $\\\\Delta l$ is the change in length, $l_{1}$ is original length and $\\\\Delta \\\\theta$ is the change in temperature. The unit of $\\\\alpha$ is $\\\\mathrm{K}^{-1}$.\\nCubical expansivity ( $\\\\gamma$ ): The increase in volume per unit original volume per unit rise in temperature is called cubical expansivity or coefficient of cubical expansion. It is denoted by $\\\\gamma$ and is given by\\n$\\\\gamma=\\\\frac{\\\\text { change in volume }}{\\\\text { original volume } \\\\times \\\\text { rise in temperature }}$\\n$\\\\gamma=\\\\frac{\\\\mathrm{V}_{2}-\\\\mathrm{V}_{1}}{\\\\mathrm{~V}_{1}\\\\left(\\\\theta_{2}-\\\\theta_{1}\\\\right)} \\\\Rightarrow \\\\gamma=\\\\frac{\\\\Delta \\\\mathrm{V}}{\\\\mathrm{V}_{1} \\\\Delta \\\\theta}$\\nwhere $\\\\Delta \\\\mathrm{V}$ is the change in volume, $\\\\mathrm{V}_{1}$ is original volume and $\\\\Delta \\\\theta$ is the change in temperature. The unit of $\\\\gamma$ is $\\\\mathrm{K}^{-1}$.\\nRelation between $\\\\alpha$ and $\\\\gamma$ : Let us consider a cube whose sides having length $\\\\mathrm{L}_{0}$ at temperature $0^{\\\\circ} \\\\mathrm{C}$ and volume is $\\\\mathrm{V}_{0}$. If the cube is heated, then the side of cube becomes $\\\\mathrm{L}_{0}$ and volume becomes $\\\\mathrm{V}_{0}$. If $\\\\gamma$ be the coefficient of cubical expansion, then\\n$\\\\mathrm{V}_{0}=\\\\mathrm{V}_{0}(1+\\\\gamma \\\\theta)$\\nSince, $\\\\mathrm{V}_{0}=\\\\mathrm{L}_{0}{ }^{3}$ and $\\\\mathrm{V}_{0}=\\\\mathrm{L}_{0}{ }^{3}$\\nThen, $\\\\mathrm{L}_{0}{ }^{3}=\\\\mathrm{L}_{0}{ }^{3}(1+\\\\gamma \\\\theta)$\\nBut $\\\\mathrm{L}_{0}=\\\\mathrm{L}_{0}(1+\\\\alpha \\\\theta)$,\\nWhere $\\\\alpha$ is coefficient of linear expansion.\\nUsing (ii) in (i), we get\\n$\\\\mathrm{L}_{0}{ }^{3}(1+\\\\alpha \\\\theta)^{3}=\\\\mathrm{L}_{0}{ }^{3}(1+\\\\gamma \\\\theta)$\\n![img-2.jpeg](img-2.jpeg)'),\n",
       "  Document(id='7. 2071 Set D Q.No. 2 a', metadata={'page': 4.0, 'question': '7. 2071 Set D Q.No. 2 a', 'reference': '', 'source': 'pdf/physics.pdf'}, page_content='7. 2071 Set D Q.No. 2 a Define the coefficient of cubical expansion of a solid and hence, write an expression for the variation of its density with temperature.\\n$2 a$ Coefficient of cubical expansion of solid is defined as the change in volume per unit original volume per unit rise in temperature.')],\n",
       " 'answer': 'Based on the context:\\n\\n*   **2071 Set D Q.No. 2 a**: Coefficient of cubical expansion of solid is defined as the change in volume per unit original volume per unit rise in temperature.\\n*   **2075 GIE Q.No. 6a**: Cubical expansivity ( $\\\\gamma$ ): The increase in volume per unit original volume per unit rise in temperature is called cubical expansivity or coefficient of cubical expansion. It is denoted by $\\\\gamma$ and is given by\\n    $\\\\gamma=\\\\frac{\\\\text { change in volume }}{\\\\text { original volume } \\\\times \\\\text { rise in temperature }}$\\n    $\\\\gamma=\\\\frac{\\\\mathrm{V}_{2}-\\\\mathrm{V}_{1}}{\\\\mathrm{~V}_{1}\\\\left(\\\\theta_{2}-\\\\theta_{1}\\\\right)} \\\\Rightarrow \\\\gamma=\\\\frac{\\\\Delta \\\\mathrm{V}}{\\\\mathrm{V}_{1} \\\\Delta \\\\theta}$\\n    where $\\\\Delta \\\\mathrm{V}$ is the change in volume, $\\\\mathrm{V}_{1}$ is original volume and $\\\\Delta \\\\theta$ is the change in temperature. The unit of $\\\\gamma$ is $\\\\mathrm{K}^{-1}$.'}"
      ]
     },
     "execution_count": 4,
     "metadata": {},
     "output_type": "execute_result"
    }
   ],
   "source": [
    "op"
   ]
  },
  {
   "cell_type": "code",
   "execution_count": null,
   "id": "5aad0260",
   "metadata": {},
   "outputs": [],
   "source": [
    "sources = []\n",
    "for doc in op[\"context\"]:\n",
    "    sources.append(\n",
    "        {\n",
    "            \"source\": doc.metadata.get(\"source\", \"Unknown\"),\n",
    "            \"page no.\": doc.metdata.get(\"page\", \"N/A\"),\n",
    "            \"question\": doc.metadata.get(\"question\", \"\"),\n",
    "            \"reference\": doc.metadata.get(re)\n",
    "        }\n",
    "    )"
   ]
  },
  {
   "cell_type": "code",
   "execution_count": 5,
   "id": "56b234a1",
   "metadata": {},
   "outputs": [],
   "source": [
    "metadata_list = [doc.metadata for doc in op[\"context\"]]"
   ]
  },
  {
   "cell_type": "code",
   "execution_count": 6,
   "id": "4def9271",
   "metadata": {},
   "outputs": [
    {
     "data": {
      "text/plain": [
       "[{'page': 9.0,\n",
       "  'question': '32. 2071 Set C Q.No. 6 c',\n",
       "  'reference': '',\n",
       "  'source': 'pdf/physics.pdf'},\n",
       " {'page': 5.0,\n",
       "  'question': '10. 2070 Set D Q.No. 2 a',\n",
       "  'reference': '',\n",
       "  'source': 'pdf/physics.pdf'},\n",
       " {'page': 7.0,\n",
       "  'question': '26. 2075 GIE Q.No. 6a',\n",
       "  'reference': '',\n",
       "  'source': 'pdf/physics.pdf'},\n",
       " {'page': 4.0,\n",
       "  'question': '7. 2071 Set D Q.No. 2 a',\n",
       "  'reference': '',\n",
       "  'source': 'pdf/physics.pdf'}]"
      ]
     },
     "execution_count": 6,
     "metadata": {},
     "output_type": "execute_result"
    }
   ],
   "source": [
    "metadata_list"
   ]
  },
  {
   "cell_type": "code",
   "execution_count": null,
   "id": "36125548",
   "metadata": {},
   "outputs": [],
   "source": []
  }
 ],
 "metadata": {
  "kernelspec": {
   "display_name": ".venv",
   "language": "python",
   "name": "python3"
  },
  "language_info": {
   "codemirror_mode": {
    "name": "ipython",
    "version": 3
   },
   "file_extension": ".py",
   "mimetype": "text/x-python",
   "name": "python",
   "nbconvert_exporter": "python",
   "pygments_lexer": "ipython3",
   "version": "3.12.7"
  }
 },
 "nbformat": 4,
 "nbformat_minor": 5
}
